{
 "cells": [
  {
   "cell_type": "code",
   "execution_count": 4,
   "metadata": {},
   "outputs": [
    {
     "data": {
      "text/plain": [
       "CLIPConfig {\n",
       "  \"_name_or_path\": \"laion/CLIP-ViT-L-14-DataComp.XL-s13B-b90K\",\n",
       "  \"architectures\": [\n",
       "    \"CLIPModel\"\n",
       "  ],\n",
       "  \"initializer_factor\": 1.0,\n",
       "  \"logit_scale_init_value\": 2.6592,\n",
       "  \"model_type\": \"clip\",\n",
       "  \"projection_dim\": 768,\n",
       "  \"text_config\": {\n",
       "    \"bos_token_id\": 0,\n",
       "    \"eos_token_id\": 2,\n",
       "    \"hidden_act\": \"gelu\",\n",
       "    \"hidden_size\": 768,\n",
       "    \"intermediate_size\": 3072,\n",
       "    \"model_type\": \"clip_text_model\",\n",
       "    \"num_attention_heads\": 12\n",
       "  },\n",
       "  \"torch_dtype\": \"float32\",\n",
       "  \"transformers_version\": \"4.44.0\",\n",
       "  \"vision_config\": {\n",
       "    \"hidden_act\": \"gelu\",\n",
       "    \"hidden_size\": 1024,\n",
       "    \"intermediate_size\": 4096,\n",
       "    \"model_type\": \"clip_vision_model\",\n",
       "    \"num_attention_heads\": 16,\n",
       "    \"num_hidden_layers\": 24,\n",
       "    \"patch_size\": 14\n",
       "  }\n",
       "}"
      ]
     },
     "execution_count": 4,
     "metadata": {},
     "output_type": "execute_result"
    }
   ],
   "source": [
    "from transformers import AutoConfig\n",
    "\n",
    "AutoConfig.from_pretrained(\"laion/CLIP-ViT-L-14-DataComp.XL-s13B-b90K\")"
   ]
  },
  {
   "cell_type": "code",
   "execution_count": 1,
   "metadata": {},
   "outputs": [
    {
     "name": "stderr",
     "output_type": "stream",
     "text": [
      "/Users/aw/projects/vitsearch/.venv/lib/python3.11/site-packages/tqdm/auto.py:21: TqdmWarning: IProgress not found. Please update jupyter and ipywidgets. See https://ipywidgets.readthedocs.io/en/stable/user_install.html\n",
      "  from .autonotebook import tqdm as notebook_tqdm\n"
     ]
    },
    {
     "name": "stdout",
     "output_type": "stream",
     "text": [
      "{'n_layers': 24, 'd_model': 1024, 'd_head': 64, 'model_name': '', 'n_heads': 16, 'd_mlp': 4096, 'activation_name': 'gelu', 'eps': 1e-05, 'original_architecture': 'vit_clip_vision_encoder', 'initializer_range': 0.02, 'n_channels': 3, 'patch_size': 14, 'image_size': 224, 'n_classes': 768, 'n_params': None}\n",
      "Using CLIP model with 768 classes\n",
      "{'n_layers': 24, 'd_model': 1024, 'd_head': 64, 'model_name': '', 'n_heads': 16, 'd_mlp': 4096, 'activation_name': 'gelu', 'eps': 1e-05, 'original_architecture': 'vit_clip_vision_encoder', 'initializer_range': 0.02, 'n_channels': 3, 'patch_size': 14, 'image_size': 224, 'n_classes': 768, 'n_params': None, 'layer_norm_pre': True, 'return_type': 'class_logits'}\n"
     ]
    }
   ],
   "source": [
    "from vit_prisma.prisma_tools.loading_from_pretrained import convert_pretrained_model_config\n",
    "from vit_prisma.models.base_vit import HookedViT\n",
    "\n",
    "config = convert_pretrained_model_config(\n",
    "    \"awilliamson/CLIP-ViT-L-14-DataComp.XL-s13B-b90K\",\n",
    "    is_timm=False,\n",
    "    is_clip=True,\n",
    ")"
   ]
  },
  {
   "cell_type": "code",
   "execution_count": 2,
   "metadata": {},
   "outputs": [
    {
     "name": "stdout",
     "output_type": "stream",
     "text": [
      "{'n_layers': 24, 'd_model': 1024, 'd_head': 64, 'model_name': '', 'n_heads': 16, 'd_mlp': 4096, 'activation_name': 'gelu', 'eps': 1e-05, 'original_architecture': 'vit_clip_vision_encoder', 'initializer_range': 0.02, 'n_channels': 3, 'patch_size': 14, 'image_size': 224, 'n_classes': 768, 'n_params': None}\n",
      "Using CLIP model with 768 classes\n",
      "{'n_layers': 24, 'd_model': 1024, 'd_head': 64, 'model_name': '', 'n_heads': 16, 'd_mlp': 4096, 'activation_name': 'gelu', 'eps': 1e-05, 'original_architecture': 'vit_clip_vision_encoder', 'initializer_range': 0.02, 'n_channels': 3, 'patch_size': 14, 'image_size': 224, 'n_classes': 768, 'n_params': None, 'layer_norm_pre': True, 'return_type': 'class_logits'}\n",
      "LayerNorm folded.\n",
      "Centered weights writing to residual stream\n",
      "Loaded pretrained model laion/CLIP-ViT-L-14-DataComp.XL-s13B-b90K into HookedTransformer\n"
     ]
    }
   ],
   "source": [
    "from vit_prisma.models.base_vit import HookedViT\n",
    "\n",
    "model = HookedViT.from_pretrained(\n",
    "    model_name=\"laion/CLIP-ViT-L-14-DataComp.XL-s13B-b90K\", \n",
    "    config=config,\n",
    "    is_timm=False, \n",
    "    is_clip=True,\n",
    ")"
   ]
  },
  {
   "cell_type": "code",
   "execution_count": null,
   "metadata": {},
   "outputs": [],
   "source": []
  }
 ],
 "metadata": {
  "kernelspec": {
   "display_name": ".venv",
   "language": "python",
   "name": "python3"
  },
  "language_info": {
   "codemirror_mode": {
    "name": "ipython",
    "version": 3
   },
   "file_extension": ".py",
   "mimetype": "text/x-python",
   "name": "python",
   "nbconvert_exporter": "python",
   "pygments_lexer": "ipython3",
   "version": "3.11.6"
  }
 },
 "nbformat": 4,
 "nbformat_minor": 2
}
